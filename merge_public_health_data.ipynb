{
 "cells": [
  {
   "cell_type": "markdown",
   "metadata": {},
   "source": [
    "## Clean data "
   ]
  },
  {
   "cell_type": "markdown",
   "metadata": {},
   "source": [
    "*** NAMING CONVENTION ***\n",
    "\n",
    "\n",
    "  * Suicide_Mortality_Rate_Census_Tracts.csv: columns end with **sui**\n",
    "  \n",
    "  * 'Physical_Health_in_Adults__CDPHE_Community_Level_Estimates_Census_Tracts.csv': columns end with **phy**\n",
    "  \n",
    "  * 'Drug_Poisoning_or_Overdose_involving_Rx_Opioid_Analgesic_or_Heroin_Mortality_Rate_Census_Tract.csv': ends with **dru**\n",
    "  \n",
    "  * 'Mental_Health_in_Adults__CDPHE_Community_Level_Estimates_Census_Tracts.csv': ends with **men**\n",
    "  \n",
    "  * 'Health_Status_in_Adults__CDPHE_Community_Level_Estimates_Census_Tracts.csv': ends with **hea**\n",
    "  \n",
    "  * 'Delayed_Medical_Care_in_Adults_%24__CDPHE_Community_Level_Estimates_Census_Tracts.csv': ends with **delay**\n"
   ]
  },
  {
   "cell_type": "code",
   "execution_count": 75,
   "metadata": {},
   "outputs": [],
   "source": [
    "import pandas as pd\n",
    "import os\n",
    "from functools import reduce\n",
    "import seaborn as sns\n",
    "import matplotlib.pyplot as plt"
   ]
  },
  {
   "cell_type": "code",
   "execution_count": 17,
   "metadata": {},
   "outputs": [
    {
     "data": {
      "text/plain": [
       "['Suicide_Mortality_Rate_Census_Tracts.csv',\n",
       " 'Physical_Health_in_Adults__CDPHE_Community_Level_Estimates_Census_Tracts.csv',\n",
       " 'Untitled.ipynb',\n",
       " 'Drug_Poisoning_or_Overdose_involving_Rx_Opioid_Analgesic_or_Heroin_Mortality_Rate_Census_Tract.csv',\n",
       " 'Mental_Health_in_Adults__CDPHE_Community_Level_Estimates_Census_Tracts.csv',\n",
       " 'Health_Status_in_Adults__CDPHE_Community_Level_Estimates_Census_Tracts.csv',\n",
       " '.ipynb_checkpoints',\n",
       " 'Delayed_Medical_Care_in_Adults_%24__CDPHE_Community_Level_Estimates_Census_Tracts.csv']"
      ]
     },
     "execution_count": 17,
     "metadata": {},
     "output_type": "execute_result"
    }
   ],
   "source": [
    "os.listdir()  ## list all the data source"
   ]
  },
  {
   "cell_type": "code",
   "execution_count": 29,
   "metadata": {},
   "outputs": [],
   "source": [
    "delay = pd.read_csv('Delayed_Medical_Care_in_Adults_%24__CDPHE_Community_Level_Estimates_Census_Tracts.csv')\n",
    "phy = pd.read_csv('Physical_Health_in_Adults__CDPHE_Community_Level_Estimates_Census_Tracts.csv')\n",
    "dru = pd.read_csv('Drug_Poisoning_or_Overdose_involving_Rx_Opioid_Analgesic_or_Heroin_Mortality_Rate_Census_Tract.csv')\n",
    "men = pd.read_csv('Mental_Health_in_Adults__CDPHE_Community_Level_Estimates_Census_Tracts.csv')\n",
    "hea = pd.read_csv('Health_Status_in_Adults__CDPHE_Community_Level_Estimates_Census_Tracts.csv')\n",
    "\n",
    "sui = pd.read_csv('Suicide_Mortality_Rate_Census_Tracts.csv')"
   ]
  },
  {
   "cell_type": "code",
   "execution_count": 30,
   "metadata": {},
   "outputs": [
    {
     "data": {
      "text/plain": [
       "(Index(['OBJECTID', 'TRACT_FIPS', 'TRACT_NAME', 'COUNTY_NAME',\n",
       "        'SUICIDE_ADJRATE', 'SUICIDE_L95CI', 'SUICIDE_U95CI',\n",
       "        'SUICIDE_STATEADJRATE', 'SUICIDE_SL95CI', 'SUICIDE_SU95CI',\n",
       "        'SUICIDE_DISPLAY'],\n",
       "       dtype='object'), (1249, 11))"
      ]
     },
     "execution_count": 30,
     "metadata": {},
     "output_type": "execute_result"
    }
   ],
   "source": [
    "sui.columns, sui.shape"
   ]
  },
  {
   "cell_type": "code",
   "execution_count": 31,
   "metadata": {},
   "outputs": [
    {
     "data": {
      "text/plain": [
       "(Index(['OBJECTID', 'FIPS', 'NAME', 'COUNTY', 'HSR', 'PHYSH', 'POPOVER18',\n",
       "        'MAP_SYMBOL', 'CTYREG_EST', 'STATE_AVG', 'HSR_SYMBOL', 'MCONFINT'],\n",
       "       dtype='object'), (1249, 12))"
      ]
     },
     "execution_count": 31,
     "metadata": {},
     "output_type": "execute_result"
    }
   ],
   "source": [
    "phy.columns, phy.shape"
   ]
  },
  {
   "cell_type": "code",
   "execution_count": 32,
   "metadata": {},
   "outputs": [
    {
     "data": {
      "text/plain": [
       "(Index(['OBJECTID', 'TRACT_FIPS', 'TRACT_NAME', 'COUNTY_NAME',\n",
       "        'POD_DEATH_ADJRATE', 'POD_DEATH_L95CI', 'POD_DEATH_U95CI',\n",
       "        'POD_DEATH_STATEADJRATE', 'POD_DEATH_STATEL95CI',\n",
       "        'POD_DEATH_STATEU95CI', 'POD_DISPLAY'],\n",
       "       dtype='object'), (1249, 11))"
      ]
     },
     "execution_count": 32,
     "metadata": {},
     "output_type": "execute_result"
    }
   ],
   "source": [
    "dru.columns, dru.shape"
   ]
  },
  {
   "cell_type": "code",
   "execution_count": 25,
   "metadata": {},
   "outputs": [
    {
     "data": {
      "text/plain": [
       "(Index(['OBJECTID', 'FIPS', 'NAME', 'COUNTY', 'HSR', 'POPOVER18', 'MAP_SYMBOL',\n",
       "        'CTYREG_EST', 'STATE_AVG', 'HSR_SYMBOL', 'MNTLD', 'MCONFINT'],\n",
       "       dtype='object'), (1249, 12))"
      ]
     },
     "execution_count": 25,
     "metadata": {},
     "output_type": "execute_result"
    }
   ],
   "source": [
    "men.columns, men.shape"
   ]
  },
  {
   "cell_type": "code",
   "execution_count": 33,
   "metadata": {},
   "outputs": [
    {
     "data": {
      "text/plain": [
       "(Index(['OBJECTID', 'FIPS', 'NAME', 'COUNTY', 'HSR', 'MAP_SYMBOL', 'CTYREG_EST',\n",
       "        'STATE_AVG', 'POPOVER18', 'HSR_SYMBOL', 'DELMCC', 'MCONFINT'],\n",
       "       dtype='object'), (1249, 12))"
      ]
     },
     "execution_count": 33,
     "metadata": {},
     "output_type": "execute_result"
    }
   ],
   "source": [
    "delay.columns, delay.shape"
   ]
  },
  {
   "cell_type": "code",
   "execution_count": 34,
   "metadata": {},
   "outputs": [
    {
     "data": {
      "text/plain": [
       "(Index(['OBJECTID', 'FIPS', 'NAME', 'COUNTY', 'HSR', 'FPHLTH', 'POPOVER18',\n",
       "        'MAP_SYMBOL', 'CTYREG_EST', 'STATE_AVG', 'HSR_SYMBOL', 'MCONFINT'],\n",
       "       dtype='object'), (1249, 12))"
      ]
     },
     "execution_count": 34,
     "metadata": {},
     "output_type": "execute_result"
    }
   ],
   "source": [
    "hea.columns, hea.shape"
   ]
  },
  {
   "cell_type": "code",
   "execution_count": 28,
   "metadata": {},
   "outputs": [],
   "source": [
    "#heal.FPHLTH"
   ]
  },
  {
   "cell_type": "code",
   "execution_count": 81,
   "metadata": {},
   "outputs": [],
   "source": [
    "common_col = ['NAME', 'COUNTY', 'HSR', 'FIPS', 'TRACT_FIPS', 'OBJECTID']"
   ]
  },
  {
   "cell_type": "code",
   "execution_count": 82,
   "metadata": {},
   "outputs": [],
   "source": [
    "def clean_columns(df, myname):\n",
    "    my_col_to_drop = [i for i in common_col if i in df.columns]\n",
    "    df_new = df.drop(my_col_to_drop, axis = 1)\n",
    "    df_new.rename(columns=lambda x: x+'_' + str(myname), inplace=True)\n",
    "    \n",
    "    ## merge renamed df and original FIPS column \n",
    "    if 'FIPS' in df.columns:\n",
    "        df_merge = pd.concat([df_new, pd.DataFrame(df['FIPS']).reset_index(drop = True)], axis =1)\n",
    "        \n",
    "    else:\n",
    "        df_merge = pd.concat([df_new, pd.DataFrame(df['TRACT_FIPS']).reset_index(drop = True)], axis =1)\n",
    "        df_merge.rename({'TRACT_FIPS':'FIPS'}, axis = 1, inplace = True)\n",
    "    return df_merge\n"
   ]
  },
  {
   "cell_type": "code",
   "execution_count": 83,
   "metadata": {},
   "outputs": [],
   "source": [
    "df_new = clean_columns(dru, 'dru')"
   ]
  },
  {
   "cell_type": "code",
   "execution_count": 84,
   "metadata": {},
   "outputs": [],
   "source": [
    "#pd.concat([df_new, dru.reset_index(drop = True)], axis = 1)"
   ]
  },
  {
   "cell_type": "code",
   "execution_count": 85,
   "metadata": {},
   "outputs": [],
   "source": [
    "new_df = []\n",
    "for df, name in zip([delay, dru, hea, men, phy, sui], ['delay', 'dru', 'hea', 'men', 'phy', 'sui']):\n",
    "    new_df.append(clean_columns(df, name))"
   ]
  },
  {
   "cell_type": "code",
   "execution_count": 86,
   "metadata": {},
   "outputs": [
    {
     "data": {
      "text/html": [
       "<div>\n",
       "<style scoped>\n",
       "    .dataframe tbody tr th:only-of-type {\n",
       "        vertical-align: middle;\n",
       "    }\n",
       "\n",
       "    .dataframe tbody tr th {\n",
       "        vertical-align: top;\n",
       "    }\n",
       "\n",
       "    .dataframe thead th {\n",
       "        text-align: right;\n",
       "    }\n",
       "</style>\n",
       "<table border=\"1\" class=\"dataframe\">\n",
       "  <thead>\n",
       "    <tr style=\"text-align: right;\">\n",
       "      <th></th>\n",
       "      <th>MAP_SYMBOL_delay</th>\n",
       "      <th>CTYREG_EST_delay</th>\n",
       "      <th>STATE_AVG_delay</th>\n",
       "      <th>POPOVER18_delay</th>\n",
       "      <th>HSR_SYMBOL_delay</th>\n",
       "      <th>DELMCC_delay</th>\n",
       "      <th>MCONFINT_delay</th>\n",
       "      <th>FIPS</th>\n",
       "    </tr>\n",
       "  </thead>\n",
       "  <tbody>\n",
       "    <tr>\n",
       "      <th>0</th>\n",
       "      <td>Second Quintile</td>\n",
       "      <td>County/Regional Estimate 15.2% (95% C.I.: 11.6...</td>\n",
       "      <td>State Estimate 12.9% (95% C.I.: 12.4 - 13.3)</td>\n",
       "      <td>2932</td>\n",
       "      <td>Second Quintile</td>\n",
       "      <td>11.4</td>\n",
       "      <td>95% C.I.: 10.6 - 12.3</td>\n",
       "      <td>8043979000</td>\n",
       "    </tr>\n",
       "    <tr>\n",
       "      <th>1</th>\n",
       "      <td>Fourth Quintile</td>\n",
       "      <td>County/Regional Estimate 15.6% (95% C.I.: 11.8...</td>\n",
       "      <td>State Estimate 12.9% (95% C.I.: 12.4 - 13.3)</td>\n",
       "      <td>3030</td>\n",
       "      <td>Fourth Quintile</td>\n",
       "      <td>14.7</td>\n",
       "      <td>95% C.I.: 13.7 - 15.9</td>\n",
       "      <td>8045951600</td>\n",
       "    </tr>\n",
       "    <tr>\n",
       "      <th>2</th>\n",
       "      <td>Second Quintile</td>\n",
       "      <td>County/Regional Estimate 11.8% (95% C.I.: 10 -...</td>\n",
       "      <td>State Estimate 12.9% (95% C.I.: 12.4 - 13.3)</td>\n",
       "      <td>91</td>\n",
       "      <td>Middle Quintile</td>\n",
       "      <td>11.6</td>\n",
       "      <td>95% C.I.: 11.1 - 12</td>\n",
       "      <td>8069002803</td>\n",
       "    </tr>\n",
       "    <tr>\n",
       "      <th>3</th>\n",
       "      <td>Lowest Quintile</td>\n",
       "      <td>County/Regional Estimate 13.2% (95% C.I.: 4.8 ...</td>\n",
       "      <td>State Estimate 12.9% (95% C.I.: 12.4 - 13.3)</td>\n",
       "      <td>4339</td>\n",
       "      <td>Second Quintile</td>\n",
       "      <td>9.3</td>\n",
       "      <td>95% C.I.: 8.1 - 11.2</td>\n",
       "      <td>8125963200</td>\n",
       "    </tr>\n",
       "    <tr>\n",
       "      <th>4</th>\n",
       "      <td>Lowest Quintile</td>\n",
       "      <td>County/Regional Estimate 11.8% (95% C.I.: 10 -...</td>\n",
       "      <td>State Estimate 12.9% (95% C.I.: 12.4 - 13.3)</td>\n",
       "      <td>942</td>\n",
       "      <td>Lowest Quintile</td>\n",
       "      <td>8.3</td>\n",
       "      <td>95% C.I.: 7.9 - 8.6</td>\n",
       "      <td>8069002401</td>\n",
       "    </tr>\n",
       "  </tbody>\n",
       "</table>\n",
       "</div>"
      ],
      "text/plain": [
       "  MAP_SYMBOL_delay                                   CTYREG_EST_delay  \\\n",
       "0  Second Quintile  County/Regional Estimate 15.2% (95% C.I.: 11.6...   \n",
       "1  Fourth Quintile  County/Regional Estimate 15.6% (95% C.I.: 11.8...   \n",
       "2  Second Quintile  County/Regional Estimate 11.8% (95% C.I.: 10 -...   \n",
       "3  Lowest Quintile  County/Regional Estimate 13.2% (95% C.I.: 4.8 ...   \n",
       "4  Lowest Quintile  County/Regional Estimate 11.8% (95% C.I.: 10 -...   \n",
       "\n",
       "                                STATE_AVG_delay  POPOVER18_delay  \\\n",
       "0  State Estimate 12.9% (95% C.I.: 12.4 - 13.3)             2932   \n",
       "1  State Estimate 12.9% (95% C.I.: 12.4 - 13.3)             3030   \n",
       "2  State Estimate 12.9% (95% C.I.: 12.4 - 13.3)               91   \n",
       "3  State Estimate 12.9% (95% C.I.: 12.4 - 13.3)             4339   \n",
       "4  State Estimate 12.9% (95% C.I.: 12.4 - 13.3)              942   \n",
       "\n",
       "  HSR_SYMBOL_delay  DELMCC_delay         MCONFINT_delay        FIPS  \n",
       "0  Second Quintile          11.4  95% C.I.: 10.6 - 12.3  8043979000  \n",
       "1  Fourth Quintile          14.7  95% C.I.: 13.7 - 15.9  8045951600  \n",
       "2  Middle Quintile          11.6    95% C.I.: 11.1 - 12  8069002803  \n",
       "3  Second Quintile           9.3   95% C.I.: 8.1 - 11.2  8125963200  \n",
       "4  Lowest Quintile           8.3    95% C.I.: 7.9 - 8.6  8069002401  "
      ]
     },
     "execution_count": 86,
     "metadata": {},
     "output_type": "execute_result"
    }
   ],
   "source": [
    "new_df[0].head()"
   ]
  },
  {
   "cell_type": "code",
   "execution_count": 87,
   "metadata": {},
   "outputs": [],
   "source": [
    "for i in new_df:\n",
    "    if 'FIPS' not in i.columns:\n",
    "        print(i)"
   ]
  },
  {
   "cell_type": "markdown",
   "metadata": {},
   "source": [
    "## Join into one frame"
   ]
  },
  {
   "cell_type": "code",
   "execution_count": 88,
   "metadata": {},
   "outputs": [],
   "source": [
    "df_final = reduce(lambda left,right: pd.merge(left,right,on='FIPS'), new_df)\n"
   ]
  },
  {
   "cell_type": "code",
   "execution_count": 89,
   "metadata": {},
   "outputs": [
    {
     "data": {
      "text/html": [
       "<div>\n",
       "<style scoped>\n",
       "    .dataframe tbody tr th:only-of-type {\n",
       "        vertical-align: middle;\n",
       "    }\n",
       "\n",
       "    .dataframe tbody tr th {\n",
       "        vertical-align: top;\n",
       "    }\n",
       "\n",
       "    .dataframe thead th {\n",
       "        text-align: right;\n",
       "    }\n",
       "</style>\n",
       "<table border=\"1\" class=\"dataframe\">\n",
       "  <thead>\n",
       "    <tr style=\"text-align: right;\">\n",
       "      <th></th>\n",
       "      <th>MAP_SYMBOL_delay</th>\n",
       "      <th>CTYREG_EST_delay</th>\n",
       "      <th>STATE_AVG_delay</th>\n",
       "      <th>POPOVER18_delay</th>\n",
       "      <th>HSR_SYMBOL_delay</th>\n",
       "      <th>DELMCC_delay</th>\n",
       "      <th>MCONFINT_delay</th>\n",
       "      <th>FIPS</th>\n",
       "      <th>TRACT_NAME_dru</th>\n",
       "      <th>COUNTY_NAME_dru</th>\n",
       "      <th>...</th>\n",
       "      <th>MCONFINT_phy</th>\n",
       "      <th>TRACT_NAME_sui</th>\n",
       "      <th>COUNTY_NAME_sui</th>\n",
       "      <th>SUICIDE_ADJRATE_sui</th>\n",
       "      <th>SUICIDE_L95CI_sui</th>\n",
       "      <th>SUICIDE_U95CI_sui</th>\n",
       "      <th>SUICIDE_STATEADJRATE_sui</th>\n",
       "      <th>SUICIDE_SL95CI_sui</th>\n",
       "      <th>SUICIDE_SU95CI_sui</th>\n",
       "      <th>SUICIDE_DISPLAY_sui</th>\n",
       "    </tr>\n",
       "  </thead>\n",
       "  <tbody>\n",
       "    <tr>\n",
       "      <th>0</th>\n",
       "      <td>Second Quintile</td>\n",
       "      <td>County/Regional Estimate 15.2% (95% C.I.: 11.6...</td>\n",
       "      <td>State Estimate 12.9% (95% C.I.: 12.4 - 13.3)</td>\n",
       "      <td>2932</td>\n",
       "      <td>Second Quintile</td>\n",
       "      <td>11.4</td>\n",
       "      <td>95% C.I.: 10.6 - 12.3</td>\n",
       "      <td>8043979000</td>\n",
       "      <td>Census Tract 9790, Fremont County, Colorado</td>\n",
       "      <td>FREMONT</td>\n",
       "      <td>...</td>\n",
       "      <td>95% C.I.: 12.1 - 14.1</td>\n",
       "      <td>Census Tract 9790, Fremont County, Colorado</td>\n",
       "      <td>FREMONT</td>\n",
       "      <td>5.276</td>\n",
       "      <td>0.0027</td>\n",
       "      <td>21.581</td>\n",
       "      <td>19.48</td>\n",
       "      <td>18.95</td>\n",
       "      <td>20.01</td>\n",
       "      <td>Not Different Than State Average</td>\n",
       "    </tr>\n",
       "    <tr>\n",
       "      <th>1</th>\n",
       "      <td>Fourth Quintile</td>\n",
       "      <td>County/Regional Estimate 15.6% (95% C.I.: 11.8...</td>\n",
       "      <td>State Estimate 12.9% (95% C.I.: 12.4 - 13.3)</td>\n",
       "      <td>3030</td>\n",
       "      <td>Fourth Quintile</td>\n",
       "      <td>14.7</td>\n",
       "      <td>95% C.I.: 13.7 - 15.9</td>\n",
       "      <td>8045951600</td>\n",
       "      <td>Census Tract 9516, Garfield County, Colorado</td>\n",
       "      <td>GARFIELD</td>\n",
       "      <td>...</td>\n",
       "      <td>95% C.I.: 5.7 - 7.1</td>\n",
       "      <td>Census Tract 9516, Garfield County, Colorado</td>\n",
       "      <td>GARFIELD</td>\n",
       "      <td>NaN</td>\n",
       "      <td>NaN</td>\n",
       "      <td>NaN</td>\n",
       "      <td>19.48</td>\n",
       "      <td>18.95</td>\n",
       "      <td>20.01</td>\n",
       "      <td>No Events or Data Suppressed</td>\n",
       "    </tr>\n",
       "    <tr>\n",
       "      <th>2</th>\n",
       "      <td>Second Quintile</td>\n",
       "      <td>County/Regional Estimate 11.8% (95% C.I.: 10 -...</td>\n",
       "      <td>State Estimate 12.9% (95% C.I.: 12.4 - 13.3)</td>\n",
       "      <td>91</td>\n",
       "      <td>Middle Quintile</td>\n",
       "      <td>11.6</td>\n",
       "      <td>95% C.I.: 11.1 - 12</td>\n",
       "      <td>8069002803</td>\n",
       "      <td>Census Tract 28.03, Larimer County, Colorado</td>\n",
       "      <td>LARIMER</td>\n",
       "      <td>...</td>\n",
       "      <td>95% C.I.: 5.4 - 6.1</td>\n",
       "      <td>Census Tract 28.03, Larimer County, Colorado</td>\n",
       "      <td>LARIMER</td>\n",
       "      <td>0.000</td>\n",
       "      <td>0.0000</td>\n",
       "      <td>0.000</td>\n",
       "      <td>19.48</td>\n",
       "      <td>18.95</td>\n",
       "      <td>20.01</td>\n",
       "      <td>Lower Than State Average</td>\n",
       "    </tr>\n",
       "  </tbody>\n",
       "</table>\n",
       "<p>3 rows × 47 columns</p>\n",
       "</div>"
      ],
      "text/plain": [
       "  MAP_SYMBOL_delay                                   CTYREG_EST_delay  \\\n",
       "0  Second Quintile  County/Regional Estimate 15.2% (95% C.I.: 11.6...   \n",
       "1  Fourth Quintile  County/Regional Estimate 15.6% (95% C.I.: 11.8...   \n",
       "2  Second Quintile  County/Regional Estimate 11.8% (95% C.I.: 10 -...   \n",
       "\n",
       "                                STATE_AVG_delay  POPOVER18_delay  \\\n",
       "0  State Estimate 12.9% (95% C.I.: 12.4 - 13.3)             2932   \n",
       "1  State Estimate 12.9% (95% C.I.: 12.4 - 13.3)             3030   \n",
       "2  State Estimate 12.9% (95% C.I.: 12.4 - 13.3)               91   \n",
       "\n",
       "  HSR_SYMBOL_delay  DELMCC_delay         MCONFINT_delay        FIPS  \\\n",
       "0  Second Quintile          11.4  95% C.I.: 10.6 - 12.3  8043979000   \n",
       "1  Fourth Quintile          14.7  95% C.I.: 13.7 - 15.9  8045951600   \n",
       "2  Middle Quintile          11.6    95% C.I.: 11.1 - 12  8069002803   \n",
       "\n",
       "                                 TRACT_NAME_dru COUNTY_NAME_dru  \\\n",
       "0   Census Tract 9790, Fremont County, Colorado         FREMONT   \n",
       "1  Census Tract 9516, Garfield County, Colorado        GARFIELD   \n",
       "2  Census Tract 28.03, Larimer County, Colorado         LARIMER   \n",
       "\n",
       "                 ...                          MCONFINT_phy  \\\n",
       "0                ...                 95% C.I.: 12.1 - 14.1   \n",
       "1                ...                   95% C.I.: 5.7 - 7.1   \n",
       "2                ...                   95% C.I.: 5.4 - 6.1   \n",
       "\n",
       "                                 TRACT_NAME_sui  COUNTY_NAME_sui  \\\n",
       "0   Census Tract 9790, Fremont County, Colorado          FREMONT   \n",
       "1  Census Tract 9516, Garfield County, Colorado         GARFIELD   \n",
       "2  Census Tract 28.03, Larimer County, Colorado          LARIMER   \n",
       "\n",
       "   SUICIDE_ADJRATE_sui  SUICIDE_L95CI_sui  SUICIDE_U95CI_sui  \\\n",
       "0                5.276             0.0027             21.581   \n",
       "1                  NaN                NaN                NaN   \n",
       "2                0.000             0.0000              0.000   \n",
       "\n",
       "  SUICIDE_STATEADJRATE_sui  SUICIDE_SL95CI_sui  SUICIDE_SU95CI_sui  \\\n",
       "0                    19.48               18.95               20.01   \n",
       "1                    19.48               18.95               20.01   \n",
       "2                    19.48               18.95               20.01   \n",
       "\n",
       "                SUICIDE_DISPLAY_sui  \n",
       "0  Not Different Than State Average  \n",
       "1      No Events or Data Suppressed  \n",
       "2          Lower Than State Average  \n",
       "\n",
       "[3 rows x 47 columns]"
      ]
     },
     "execution_count": 89,
     "metadata": {},
     "output_type": "execute_result"
    }
   ],
   "source": [
    "df_final.head(3)"
   ]
  },
  {
   "cell_type": "code",
   "execution_count": 95,
   "metadata": {},
   "outputs": [
    {
     "data": {
      "text/plain": [
       "count    678.000000\n",
       "mean       9.188778\n",
       "std       12.551616\n",
       "min        0.000000\n",
       "25%        0.000000\n",
       "50%        0.000000\n",
       "75%       15.802375\n",
       "max       72.098300\n",
       "Name: POD_DEATH_ADJRATE_dru, dtype: float64"
      ]
     },
     "execution_count": 95,
     "metadata": {},
     "output_type": "execute_result"
    }
   ],
   "source": [
    "df_final.POD_DEATH_ADJRATE_dru.describe()"
   ]
  },
  {
   "cell_type": "code",
   "execution_count": 97,
   "metadata": {},
   "outputs": [
    {
     "data": {
      "text/plain": [
       "count    898.000000\n",
       "mean      22.977716\n",
       "std       14.114520\n",
       "min        0.000000\n",
       "25%       14.152750\n",
       "50%       21.213000\n",
       "75%       30.383750\n",
       "max      124.971000\n",
       "Name: SUICIDE_ADJRATE_sui, dtype: float64"
      ]
     },
     "execution_count": 97,
     "metadata": {},
     "output_type": "execute_result"
    }
   ],
   "source": [
    "df_final.SUICIDE_ADJRATE_sui.describe()"
   ]
  },
  {
   "cell_type": "code",
   "execution_count": 90,
   "metadata": {},
   "outputs": [],
   "source": [
    "corr = df_final.corr()"
   ]
  },
  {
   "cell_type": "code",
   "execution_count": 91,
   "metadata": {},
   "outputs": [],
   "source": [
    "plt.rcParams['figure.figsize'] = (10, 10)"
   ]
  },
  {
   "cell_type": "code",
   "execution_count": 92,
   "metadata": {},
   "outputs": [
    {
     "data": {
      "text/plain": [
       "<matplotlib.axes._subplots.AxesSubplot at 0x1a1ce09828>"
      ]
     },
     "execution_count": 92,
     "metadata": {},
     "output_type": "execute_result"
    },
    {
     "data": {
      "image/png": "[encoded data removed]",
      "text/plain": [
       "<Figure size 720x720 with 2 Axes>"
      ]
     },
     "metadata": {},
     "output_type": "display_data"
    }
   ],
   "source": [
    "sns.heatmap(corr)"
   ]
  },
  {
   "cell_type": "markdown",
   "metadata": {},
   "source": [
    "## Remove collinear columns: upper and lower Confidence interval"
   ]
  },
  {
   "cell_type": "code",
   "execution_count": 98,
   "metadata": {},
   "outputs": [],
   "source": [
    "remove_col = [col for col in df_final.columns if '95' in col]"
   ]
  },
  {
   "cell_type": "code",
   "execution_count": 100,
   "metadata": {},
   "outputs": [],
   "source": [
    "remove_col = remove_col + ['FIPS']"
   ]
  },
  {
   "cell_type": "code",
   "execution_count": 101,
   "metadata": {},
   "outputs": [],
   "source": [
    "df_final_rm = df_final.drop(remove_col, axis = 1)"
   ]
  },
  {
   "cell_type": "code",
   "execution_count": 103,
   "metadata": {},
   "outputs": [
    {
     "data": {
      "text/plain": [
       "<matplotlib.axes._subplots.AxesSubplot at 0x1a1d17b358>"
      ]
     },
     "execution_count": 103,
     "metadata": {},
     "output_type": "execute_result"
    },
    {
     "data": {
      "image/png": "[encoded data removed]",
      "text/plain": [
       "<Figure size 720x720 with 2 Axes>"
      ]
     },
     "metadata": {},
     "output_type": "display_data"
    }
   ],
   "source": [
    "corr = df_final_rm.corr()\n",
    "sns.heatmap(corr)"
   ]
  },
  {
   "cell_type": "code",
   "execution_count": 104,
   "metadata": {},
   "outputs": [
    {
     "name": "stdout",
     "output_type": "stream",
     "text": [
      "Checking whether there is an H2O instance running at http://localhost:54321..... not found.\n",
      "Attempting to start a local H2O server...\n",
      "  Java Version: openjdk version \"1.8.0_121\"; OpenJDK Runtime Environment (Zulu 8.20.0.5-macosx) (build 1.8.0_121-b15); OpenJDK 64-Bit Server VM (Zulu 8.20.0.5-macosx) (build 25.121-b15, mixed mode)\n",
      "  Starting server from /anaconda3/lib/python3.6/site-packages/h2o/backend/bin/h2o.jar\n",
      "  Ice root: /var/folders/y0/zy0vhqwx5bzb9zjt2fswnrf40000gn/T/tmp1gf5hwkk\n",
      "  JVM stdout: /var/folders/y0/zy0vhqwx5bzb9zjt2fswnrf40000gn/T/tmp1gf5hwkk/h2o_xiguo_started_from_python.out\n",
      "  JVM stderr: /var/folders/y0/zy0vhqwx5bzb9zjt2fswnrf40000gn/T/tmp1gf5hwkk/h2o_xiguo_started_from_python.err\n",
      "  Server is running at http://127.0.0.1:54321\n",
      "Connecting to H2O server at http://127.0.0.1:54321... successful.\n"
     ]
    },
    {
     "data": {
      "text/html": [
       "<div style=\"overflow:auto\"><table style=\"width:50%\"><tr><td>H2O cluster uptime:</td>\n",
       "<td>02 secs</td></tr>\n",
       "<tr><td>H2O cluster timezone:</td>\n",
       "<td>America/Denver</td></tr>\n",
       "<tr><td>H2O data parsing timezone:</td>\n",
       "<td>UTC</td></tr>\n",
       "<tr><td>H2O cluster version:</td>\n",
       "<td>3.20.0.5</td></tr>\n",
       "<tr><td>H2O cluster version age:</td>\n",
       "<td>3 months and 5 days </td></tr>\n",
       "<tr><td>H2O cluster name:</td>\n",
       "<td>H2O_from_python_xiguo_8arlt8</td></tr>\n",
       "<tr><td>H2O cluster total nodes:</td>\n",
       "<td>1</td></tr>\n",
       "<tr><td>H2O cluster free memory:</td>\n",
       "<td>3.556 Gb</td></tr>\n",
       "<tr><td>H2O cluster total cores:</td>\n",
       "<td>8</td></tr>\n",
       "<tr><td>H2O cluster allowed cores:</td>\n",
       "<td>8</td></tr>\n",
       "<tr><td>H2O cluster status:</td>\n",
       "<td>accepting new members, healthy</td></tr>\n",
       "<tr><td>H2O connection url:</td>\n",
       "<td>http://127.0.0.1:54321</td></tr>\n",
       "<tr><td>H2O connection proxy:</td>\n",
       "<td>None</td></tr>\n",
       "<tr><td>H2O internal security:</td>\n",
       "<td>False</td></tr>\n",
       "<tr><td>H2O API Extensions:</td>\n",
       "<td>XGBoost, Algos, AutoML, Core V3, Core V4</td></tr>\n",
       "<tr><td>Python version:</td>\n",
       "<td>3.6.5 final</td></tr></table></div>"
      ],
      "text/plain": [
       "--------------------------  ----------------------------------------\n",
       "H2O cluster uptime:         02 secs\n",
       "H2O cluster timezone:       America/Denver\n",
       "H2O data parsing timezone:  UTC\n",
       "H2O cluster version:        3.20.0.5\n",
       "H2O cluster version age:    3 months and 5 days\n",
       "H2O cluster name:           H2O_from_python_xiguo_8arlt8\n",
       "H2O cluster total nodes:    1\n",
       "H2O cluster free memory:    3.556 Gb\n",
       "H2O cluster total cores:    8\n",
       "H2O cluster allowed cores:  8\n",
       "H2O cluster status:         accepting new members, healthy\n",
       "H2O connection url:         http://127.0.0.1:54321\n",
       "H2O connection proxy:\n",
       "H2O internal security:      False\n",
       "H2O API Extensions:         XGBoost, Algos, AutoML, Core V3, Core V4\n",
       "Python version:             3.6.5 final\n",
       "--------------------------  ----------------------------------------"
      ]
     },
     "metadata": {},
     "output_type": "display_data"
    }
   ],
   "source": [
    "import h2o\n",
    "h2o.init()"
   ]
  },
  {
   "cell_type": "code",
   "execution_count": 105,
   "metadata": {},
   "outputs": [
    {
     "name": "stderr",
     "output_type": "stream",
     "text": [
      "/anaconda3/lib/python3.6/site-packages/h2o/utils/shared_utils.py:177: FutureWarning: Method .as_matrix will be removed in a future version. Use .values instead.\n",
      "  data = _handle_python_lists(python_obj.as_matrix().tolist(), -1)[1]\n"
     ]
    },
    {
     "name": "stdout",
     "output_type": "stream",
     "text": [
      "Parse progress: |█████████████████████████████████████████████████████████| 100%\n"
     ]
    }
   ],
   "source": [
    "hdf = h2o.H2OFrame(df_final_rm)"
   ]
  },
  {
   "cell_type": "code",
   "execution_count": 109,
   "metadata": {},
   "outputs": [
    {
     "data": {
      "text/plain": [
       "[0.0,\n",
       " 1.0,\n",
       " 2.0,\n",
       " 4.0,\n",
       " 6.0,\n",
       " 8.0,\n",
       " 11.0,\n",
       " 14.0,\n",
       " 15.0,\n",
       " 16.0,\n",
       " 17.0,\n",
       " 18.0,\n",
       " 20.0,\n",
       " 21.0,\n",
       " 22.0,\n",
       " 23.0,\n",
       " 25.0,\n",
       " 28.0,\n",
       " 29.0,\n",
       " 30.0,\n",
       " 31.0,\n",
       " 32.0,\n",
       " 34.0,\n",
       " 37.0]"
      ]
     },
     "execution_count": 109,
     "metadata": {},
     "output_type": "execute_result"
    }
   ],
   "source": [
    "hdf.columns_by_type('categorical')"
   ]
  },
  {
   "cell_type": "code",
   "execution_count": 113,
   "metadata": {},
   "outputs": [
    {
     "name": "stdout",
     "output_type": "stream",
     "text": [
      "3.0 POPOVER18_delay\n",
      "5.0 DELMCC_delay\n",
      "9.0 POD_DEATH_ADJRATE_dru\n",
      "10.0 POD_DEATH_STATEADJRATE_dru\n",
      "12.0 FPHLTH_hea\n",
      "13.0 POPOVER18_hea\n",
      "19.0 POPOVER18_men\n",
      "24.0 MNTLD_men\n",
      "26.0 PHYSH_phy\n",
      "27.0 POPOVER18_phy\n",
      "35.0 SUICIDE_ADJRATE_sui\n",
      "36.0 SUICIDE_STATEADJRATE_sui\n"
     ]
    }
   ],
   "source": [
    "for i in hdf.columns_by_type('numeric'):\n",
    "    print(i, hdf.col_names[int(i)])\n"
   ]
  },
  {
   "cell_type": "code",
   "execution_count": null,
   "metadata": {},
   "outputs": [],
   "source": []
  },
  {
   "cell_type": "code",
   "execution_count": 119,
   "metadata": {},
   "outputs": [],
   "source": [
    "df_final.to_csv('final_merge_CDPHE.csv', index = False)"
   ]
  },
  {
   "cell_type": "code",
   "execution_count": null,
   "metadata": {},
   "outputs": [],
   "source": []
  }
 ],
 "metadata": {
  "kernelspec": {
   "display_name": "Python 3",
   "language": "python",
   "name": "python3"
  },
  "language_info": {
   "codemirror_mode": {
    "name": "ipython",
    "version": 3
   },
   "file_extension": ".py",
   "mimetype": "text/x-python",
   "name": "python",
   "nbconvert_exporter": "python",
   "pygments_lexer": "ipython3",
   "version": "3.6.5"
  }
 },
 "nbformat": 4,
 "nbformat_minor": 2
}
